{
 "cells": [
  {
   "cell_type": "code",
   "execution_count": 1,
   "id": "99760a29-8e13-47d4-b286-dcc514a01137",
   "metadata": {},
   "outputs": [
    {
     "name": "stderr",
     "output_type": "stream",
     "text": [
      "USER_AGENT environment variable not set, consider setting it to identify your requests.\n"
     ]
    }
   ],
   "source": [
    "import operator\n",
    "from typing import Annotated, List, TypedDict, Union\n",
    "from langchain_core.pydantic_v1 import BaseModel, Field\n",
    "from langchain_openai import ChatOpenAI\n",
    "\n",
    "### Agents\n",
    "from langchain.agents import AgentExecutor, create_openai_tools_agent\n",
    "from langchain_core.messages import BaseMessage, HumanMessage\n",
    "from langchain_core.prompts import ChatPromptTemplate, MessagesPlaceholder\n",
    "##\n",
    "\n",
    "### Tools\n",
    "from langchain_core.tools import tool\n",
    "from langchain_community.document_loaders import WebBaseLoader\n",
    "from langchain_community.tools.tavily_search import TavilySearchResults\n",
    "from langchain_experimental.tools import PythonREPLTool\n",
    "###\n",
    "\n",
    "from langgraph.constants import Send\n",
    "from langgraph.graph import END, StateGraph, START"
   ]
  },
  {
   "cell_type": "code",
   "execution_count": 2,
   "id": "57a5302c-0846-4532-b516-40e5cf8a6286",
   "metadata": {},
   "outputs": [
    {
     "data": {
      "text/plain": [
       "True"
      ]
     },
     "execution_count": 2,
     "metadata": {},
     "output_type": "execute_result"
    }
   ],
   "source": [
    "import os\n",
    "from dotenv import load_dotenv\n",
    "os.environ[\"LANGCHAIN_TRACING_V2\"] = \"false\"\n",
    "load_dotenv() ## ensure that your .env file in the same directory as this notebook has the OpenAI API Key"
   ]
  },
  {
   "cell_type": "code",
   "execution_count": 3,
   "id": "06581cc5-317d-44d8-b202-93eab01da58d",
   "metadata": {},
   "outputs": [],
   "source": [
    "# tool utils\n",
    "# tavily_tool = TavilySearchResults(max_results=5) # TODO: get TavilyAPIKey\n",
    "python_repl_tool = PythonREPLTool()\n",
    "\n",
    "@tool\n",
    "def scrape_webpages(urls: List[str]) -> str:\n",
    "    \"\"\"Use requests and bs4 to scrape the provided web pages for detailed information.\"\"\"\n",
    "    loader = WebBaseLoader(urls)\n",
    "    docs = loader.load()\n",
    "    return \"\\n\\n\".join(\n",
    "        [\n",
    "            f'\\n{doc.page_content}\\n'\n",
    "            for doc in docs\n",
    "        ]\n",
    "    )\n",
    "\n",
    "@tool\n",
    "def get_telemetry(queries: List[str]) -> str: \n",
    "    \"\"\"Use Alessandro's API to request samples of traces and/or metrics (gauges or counters) from prometheus and jaeger.\n",
    "    @TODO: refine type signature for input to be a tuple of counted calls\n",
    "    @TODO: implement the actual functionality\n",
    "    \"\"\"\n",
    "    pass\n",
    "\n"
   ]
  },
  {
   "cell_type": "code",
   "execution_count": 4,
   "id": "2d260fbd-449f-4a75-a823-eb46e3c070fc",
   "metadata": {},
   "outputs": [],
   "source": [
    "# LLM setup \n",
    "llm = ChatOpenAI(model=\"gpt-4o\")"
   ]
  },
  {
   "cell_type": "code",
   "execution_count": 5,
   "id": "333231bb-03e1-4260-bf88-7c317f58c36e",
   "metadata": {},
   "outputs": [],
   "source": [
    "def create_agent(llm: ChatOpenAI, tools: list, system_prompt: str):\n",
    "    # Each worker node will be given a name and some tools.\n",
    "    prompt = ChatPromptTemplate.from_messages(\n",
    "        [\n",
    "            (\n",
    "                \"system\",\n",
    "                system_prompt,\n",
    "            ),\n",
    "            MessagesPlaceholder(variable_name=\"messages\"),\n",
    "            MessagesPlaceholder(variable_name=\"agent_scratchpad\"),\n",
    "        ]\n",
    "    )\n",
    "    agent = create_openai_tools_agent(llm, tools, prompt)\n",
    "    executor = AgentExecutor(agent=agent, tools=tools)\n",
    "    return executor\n",
    "\n",
    "def agent_node(state, agent, name):\n",
    "    result = agent.invoke(state)\n",
    "    return {\"messages\": [HumanMessage(content=result[\"output\"], name=name)]}"
   ]
  },
  {
   "cell_type": "code",
   "execution_count": 6,
   "id": "5e8cb54b-5662-4b54-949b-a1dc65cba24b",
   "metadata": {},
   "outputs": [],
   "source": [
    "gt_prompt = (\n",
    "    \"You are a telemeter tasked with using the provided tool to retrieve\"\n",
    "    \" all requested metrics and traces by selecting and using the appropriate\"\n",
    "    \" Jaeger and/or Prometheus API endpoints.\"\n",
    ")\n",
    "\n",
    "telemetry_retriever = create_agent(llm, [get_telemetry], gt_prompt)"
   ]
  },
  {
   "cell_type": "code",
   "execution_count": 7,
   "id": "c6765cf3-cfeb-41b2-93a4-4ed1d70c5c95",
   "metadata": {},
   "outputs": [],
   "source": [
    "anomdet_prompt = (\n",
    "    \"You are an expert at detecting anomalies in microservice application\"\n",
    "    \" traces and metrics. Upon being provided a set of different metrics,\"\n",
    "    \" as well as a description of an SLO violation, feel free to reason and\"\n",
    "    \" or use the provided tools to determine if the reading is anomalous.\"\n",
    "    \" If you detect an anomaly, fill out the structured output. Otherwise,\"\n",
    "    \" reply that there is no anomaly with the provided artifact.\"\n",
    ")\n",
    "\n",
    "anomaly_detector = create_agent(llm, [python_repl_tool], anomdet_prompt)"
   ]
  },
  {
   "cell_type": "code",
   "execution_count": null,
   "id": "f2bf7817",
   "metadata": {},
   "outputs": [],
   "source": [
    "class Anomaly(BaseModel):\n",
    "    anomaly_occured: bool\n",
    "    pass\n",
    "\n",
    "class NonAnomaly(BaseModel):\n",
    "    anomaly_occured: bool\n",
    "    pass\n",
    "\n",
    "AnomalyDetectorOut = Annotated[Union[Anomaly, NonAnomaly], Field(discriminator='anomaly_occured')]"
   ]
  }
 ],
 "metadata": {
  "kernelspec": {
   "display_name": "Python 3 (ipykernel)",
   "language": "python",
   "name": "python3"
  },
  "language_info": {
   "codemirror_mode": {
    "name": "ipython",
    "version": 3
   },
   "file_extension": ".py",
   "mimetype": "text/x-python",
   "name": "python",
   "nbconvert_exporter": "python",
   "pygments_lexer": "ipython3",
   "version": "3.12.3"
  }
 },
 "nbformat": 4,
 "nbformat_minor": 5
}
