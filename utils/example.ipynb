{
 "cells": [
  {
   "cell_type": "code",
   "execution_count": 1,
   "metadata": {},
   "outputs": [],
   "source": [
    "from utils import stream_spans, process_all_traces\n",
    "import json"
   ]
  },
  {
   "cell_type": "code",
   "execution_count": 23,
   "metadata": {},
   "outputs": [],
   "source": [
    "# utils example usage\n",
    "endpoint = \"http://172.18.0.54:12349\"\n",
    "traceid = \"cc1d6566e5f051a4c11eca0a221fc80f\"\n",
    "jsons = stream_spans(endpoint, traceid)\n",
    "\n",
    "# Specify the file path where you want to save the JSON file\n",
    "file_path = './dump.json'\n",
    "\n",
    "# Dump the dictionary into a JSON file\n",
    "with open(file_path, 'w') as f:\n",
    "    json.dump(jsons, f)\n",
    "\n",
    "process_all_traces('./dump.json', './output')"
   ]
  },
  {
   "cell_type": "code",
   "execution_count": 21,
   "metadata": {},
   "outputs": [
    {
     "name": "stdout",
     "output_type": "stream",
     "text": [
      "\n",
      "Completed processing all traces. Output files are in ./output\n"
     ]
    }
   ],
   "source": []
  }
 ],
 "metadata": {
  "kernelspec": {
   "display_name": "Python 3 (ipykernel)",
   "language": "python",
   "name": "python3"
  },
  "language_info": {
   "codemirror_mode": {
    "name": "ipython",
    "version": 3
   },
   "file_extension": ".py",
   "mimetype": "text/x-python",
   "name": "python",
   "nbconvert_exporter": "python",
   "pygments_lexer": "ipython3",
   "version": "3.12.4"
  }
 },
 "nbformat": 4,
 "nbformat_minor": 2
}
